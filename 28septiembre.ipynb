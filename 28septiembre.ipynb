{
  "nbformat": 4,
  "nbformat_minor": 0,
  "metadata": {
    "colab": {
      "name": "28septiembre.ipynb",
      "provenance": [],
      "authorship_tag": "ABX9TyM09EVCeWcEHVkWBx+c5lqR",
      "include_colab_link": true
    },
    "kernelspec": {
      "name": "python3",
      "display_name": "Python 3"
    }
  },
  "cells": [
    {
      "cell_type": "markdown",
      "metadata": {
        "id": "view-in-github",
        "colab_type": "text"
      },
      "source": [
        "<a href=\"https://colab.research.google.com/github/Ale1167A/daa_2021_1/blob/master/28septiembre.ipynb\" target=\"_parent\"><img src=\"https://colab.research.google.com/assets/colab-badge.svg\" alt=\"Open In Colab\"/></a>"
      ]
    },
    {
      "cell_type": "markdown",
      "metadata": {
        "id": "DgsIgaorEXpU"
      },
      "source": [
        "##Seccion 1"
      ]
    },
    {
      "cell_type": "markdown",
      "metadata": {
        "id": "saoaL_TkE7X8"
      },
      "source": [
        "En Esta seccion aprenderemos a programar en python"
      ]
    },
    {
      "cell_type": "markdown",
      "metadata": {
        "id": "vf_jJ7HdFble"
      },
      "source": [
        "##Codigo de Ejempo\n",
        "__Negritas__\n",
        "\n",
        "\n",
        "´\n",
        "edad = 10\n",
        "print(edad)\n",
        "´"
      ]
    },
    {
      "cell_type": "code",
      "metadata": {
        "id": "zalvuAtdGhgh",
        "outputId": "5582ff61-6481-4a9c-8f22-b016c304dade",
        "colab": {
          "base_uri": "https://localhost:8080/",
          "height": 35
        }
      },
      "source": [
        "frutas = []\n",
        "\n",
        "frutas.append('Manzana')\n",
        "frutas.append('Piña')\n",
        "frutas.append('kiwi')\n",
        "\n",
        "print(frutas)"
      ],
      "execution_count": 1,
      "outputs": [
        {
          "output_type": "stream",
          "text": [
            "['Manzana', 'Piña', 'kiwi']\n"
          ],
          "name": "stdout"
        }
      ]
    },
    {
      "cell_type": "code",
      "metadata": {
        "id": "HCCyIs05Hruv",
        "outputId": "ffb3aefc-1cce-4280-bcbf-24077c42dc35",
        "colab": {
          "base_uri": "https://localhost:8080/",
          "height": 35
        }
      },
      "source": [
        "archivo = open('prueba_daa.txt','wt')\n",
        "archivo.write('Hola Mundo Jupyter')\n",
        "archivo.close"
      ],
      "execution_count": 3,
      "outputs": [
        {
          "output_type": "execute_result",
          "data": {
            "text/plain": [
              "<function TextIOWrapper.close>"
            ]
          },
          "metadata": {
            "tags": []
          },
          "execution_count": 3
        }
      ]
    },
    {
      "cell_type": "code",
      "metadata": {
        "id": "q9qKvA17EUDA"
      },
      "source": [
        ""
      ],
      "execution_count": null,
      "outputs": []
    }
  ]
}