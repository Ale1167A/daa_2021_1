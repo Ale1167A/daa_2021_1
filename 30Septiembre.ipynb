{
  "nbformat": 4,
  "nbformat_minor": 0,
  "metadata": {
    "colab": {
      "name": "30Septiembre.ipynb",
      "provenance": [],
      "collapsed_sections": [],
      "authorship_tag": "ABX9TyO50Q+EkG9PAMFIeBVemm6S",
      "include_colab_link": true
    },
    "kernelspec": {
      "name": "python3",
      "display_name": "Python 3"
    }
  },
  "cells": [
    {
      "cell_type": "markdown",
      "metadata": {
        "id": "view-in-github",
        "colab_type": "text"
      },
      "source": [
        "<a href=\"https://colab.research.google.com/github/Ale1167A/daa_2021_1/blob/master/30Septiembre.ipynb\" target=\"_parent\"><img src=\"https://colab.research.google.com/assets/colab-badge.svg\" alt=\"Open In Colab\"/></a>"
      ]
    },
    {
      "cell_type": "markdown",
      "metadata": {
        "id": "uxBPIJccP-lW"
      },
      "source": [
        "#Palindromo\n",
        "\n",
        "###plantemiento \n",
        "Encontrar todos los palindromos que existen en la franja horaria de un dia \n",
        "completo, tomando como horario inicial las 00:00 horas y como horario final \n",
        "las 23:59.\n",
        "\n",
        "El algoritmo debe mostrar todos los palindromos existen en es rengo y mostrarlo en pantalla y hacer el conteo final de todos los palindromos encontrados"
      ]
    },
    {
      "cell_type": "code",
      "metadata": {
        "id": "QYn5tsj-Put1",
        "outputId": "07ff1a60-ffb6-4880-9787-c0fd938e3ff6",
        "colab": {
          "base_uri": "https://localhost:8080/",
          "height": 476
        }
      },
      "source": [
        "#Solucion\n",
        "\n",
        "def horas():\n",
        "  for m in range(0,24,1):\n",
        "    for h in range(0,60,1):\n",
        "      if m == h and h == m:\n",
        "        print(f'{m}:{h}')\n",
        "  print(f'{m+1} son palindromos')\n",
        "\n",
        "\n",
        "\n",
        "\n",
        "def main():\n",
        "  hora = horas()\n",
        " \n",
        "\n",
        "main()\n"
      ],
      "execution_count": 12,
      "outputs": [
        {
          "output_type": "stream",
          "text": [
            "0:0\n",
            "1:1\n",
            "2:2\n",
            "3:3\n",
            "4:4\n",
            "5:5\n",
            "6:6\n",
            "7:7\n",
            "8:8\n",
            "9:9\n",
            "10:10\n",
            "11:11\n",
            "12:12\n",
            "13:13\n",
            "14:14\n",
            "15:15\n",
            "16:16\n",
            "17:17\n",
            "18:18\n",
            "19:19\n",
            "20:20\n",
            "21:21\n",
            "22:22\n",
            "23:23\n",
            "24 son palindromos\n"
          ],
          "name": "stdout"
        }
      ]
    }
  ]
}