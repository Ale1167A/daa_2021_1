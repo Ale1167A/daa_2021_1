{
  "nbformat": 4,
  "nbformat_minor": 0,
  "metadata": {
    "colab": {
      "name": "Tarea_5.ipynb",
      "provenance": [],
      "collapsed_sections": [],
      "authorship_tag": "ABX9TyOpjeg31+39qJUOyXtrZAj4",
      "include_colab_link": true
    },
    "kernelspec": {
      "name": "python3",
      "display_name": "Python 3"
    }
  },
  "cells": [
    {
      "cell_type": "markdown",
      "metadata": {
        "id": "view-in-github",
        "colab_type": "text"
      },
      "source": [
        "<a href=\"https://colab.research.google.com/github/Ale1167A/daa_2021_1/blob/master/Tarea_5.ipynb\" target=\"_parent\"><img src=\"https://colab.research.google.com/assets/colab-badge.svg\" alt=\"Open In Colab\"/></a>"
      ]
    },
    {
      "cell_type": "code",
      "metadata": {
        "id": "uMRvwe-CIpgG",
        "outputId": "42b85e95-183f-452c-ab06-c40bef9337f2",
        "colab": {
          "base_uri": "https://localhost:8080/",
          "height": 384
        }
      },
      "source": [
        "from time import time\n",
        "def ejemplo1( n ):\n",
        "    start_time = time()\n",
        "    c = n + 1\n",
        "    d = c * n\n",
        "    e = n * n\n",
        "    total = c + e - d\n",
        "    print(f\"total={ total }\")\n",
        "    elapsed_time = time() - start_time\n",
        "    print(\"Tiempo transcurrido: %0.10f segundos.\" % elapsed_time)\n",
        "\n",
        "for entrada in range(100,1100,100):\n",
        "  ejemplo1( entrada )"
      ],
      "execution_count": 5,
      "outputs": [
        {
          "output_type": "stream",
          "text": [
            "total=1\n",
            "Tiempo transcurrido: 0.0000720024 segundos.\n",
            "total=1\n",
            "Tiempo transcurrido: 0.0001590252 segundos.\n",
            "total=1\n",
            "Tiempo transcurrido: 0.0000286102 segundos.\n",
            "total=1\n",
            "Tiempo transcurrido: 0.0000214577 segundos.\n",
            "total=1\n",
            "Tiempo transcurrido: 0.0000169277 segundos.\n",
            "total=1\n",
            "Tiempo transcurrido: 0.0000336170 segundos.\n",
            "total=1\n",
            "Tiempo transcurrido: 0.0000145435 segundos.\n",
            "total=1\n",
            "Tiempo transcurrido: 0.0000140667 segundos.\n",
            "total=1\n",
            "Tiempo transcurrido: 0.0000147820 segundos.\n",
            "total=1\n",
            "Tiempo transcurrido: 0.0000135899 segundos.\n"
          ],
          "name": "stdout"
        }
      ]
    },
    {
      "cell_type": "code",
      "metadata": {
        "id": "k9GncBhHIw0s",
        "outputId": "f3a9c446-c3c1-4668-c9ea-11d69aba315c",
        "colab": {
          "base_uri": "https://localhost:8080/",
          "height": 201
        }
      },
      "source": [
        "from time import time\n",
        "def ejemplo2( n ):\n",
        "    start_time = time()\n",
        "    contador = 0\n",
        "    for i in range( n ) :\n",
        "        for j in range( n ) :\n",
        "            contador += 1\n",
        "    elapsed_time = time() - start_time\n",
        "    print(\"Tiempo transcurrido: %0.10f segundos.\" % elapsed_time)\n",
        "    return contador\n",
        "\n",
        "for entrada in range(100,1100,100):\n",
        "  ejemplo2( entrada )"
      ],
      "execution_count": 8,
      "outputs": [
        {
          "output_type": "stream",
          "text": [
            "Tiempo transcurrido: 0.0004611015 segundos.\n",
            "Tiempo transcurrido: 0.0017566681 segundos.\n",
            "Tiempo transcurrido: 0.0042049885 segundos.\n",
            "Tiempo transcurrido: 0.0078694820 segundos.\n",
            "Tiempo transcurrido: 0.0143642426 segundos.\n",
            "Tiempo transcurrido: 0.0231046677 segundos.\n",
            "Tiempo transcurrido: 0.0305917263 segundos.\n",
            "Tiempo transcurrido: 0.0469002724 segundos.\n",
            "Tiempo transcurrido: 0.0424523354 segundos.\n",
            "Tiempo transcurrido: 0.0518510342 segundos.\n"
          ],
          "name": "stdout"
        }
      ]
    },
    {
      "cell_type": "code",
      "metadata": {
        "id": "gjtNUbvGIyh7",
        "outputId": "3060583a-0e88-4b24-f8bf-3803615dc7e2",
        "colab": {
          "base_uri": "https://localhost:8080/",
          "height": 201
        }
      },
      "source": [
        "from time import time\n",
        "def ejemplo3( n ): # n=4\n",
        "    start_time = time()\n",
        "    x = n * 2 # x = 8\n",
        "    y = 0   # y = 0\n",
        "    for m in range( 100 ): #3\n",
        "        y = x - n   # y = 4\n",
        "    elapsed_time = time() - start_time\n",
        "    print(\"Tiempo transcurrido: %0.10f segundos.\" % elapsed_time)\n",
        "    return y\n",
        "\n",
        "for entrada in range(100,1100,100):\n",
        "  ejemplo3( entrada )"
      ],
      "execution_count": 9,
      "outputs": [
        {
          "output_type": "stream",
          "text": [
            "Tiempo transcurrido: 0.0000057220 segundos.\n",
            "Tiempo transcurrido: 0.0000071526 segundos.\n",
            "Tiempo transcurrido: 0.0000092983 segundos.\n",
            "Tiempo transcurrido: 0.0000090599 segundos.\n",
            "Tiempo transcurrido: 0.0000088215 segundos.\n",
            "Tiempo transcurrido: 0.0000088215 segundos.\n",
            "Tiempo transcurrido: 0.0000085831 segundos.\n",
            "Tiempo transcurrido: 0.0000085831 segundos.\n",
            "Tiempo transcurrido: 0.0000109673 segundos.\n",
            "Tiempo transcurrido: 0.0000154972 segundos.\n"
          ],
          "name": "stdout"
        }
      ]
    },
    {
      "cell_type": "code",
      "metadata": {
        "id": "wagWQWo0I2Lb",
        "outputId": "8a81a565-1be7-4748-d07b-d4225f947396",
        "colab": {
          "base_uri": "https://localhost:8080/",
          "height": 201
        }
      },
      "source": [
        "from time import time\n",
        "def ejemplo4( n ):\n",
        "    start_time = time()\n",
        "    x = 3 * 3.1416 + n\n",
        "    y = x + 3 * 3 - n\n",
        "    z = x + y\n",
        "    elapsed_time = time() - start_time\n",
        "    print(\"Tiempo transcurrido: %0.10f segundos.\" % elapsed_time)\n",
        "    return z\n",
        "\n",
        "for entrada in range(100,1100,100):\n",
        "  ejemplo4( entrada )"
      ],
      "execution_count": 10,
      "outputs": [
        {
          "output_type": "stream",
          "text": [
            "Tiempo transcurrido: 0.0000014305 segundos.\n",
            "Tiempo transcurrido: 0.0000011921 segundos.\n",
            "Tiempo transcurrido: 0.0000007153 segundos.\n",
            "Tiempo transcurrido: 0.0000007153 segundos.\n",
            "Tiempo transcurrido: 0.0000009537 segundos.\n",
            "Tiempo transcurrido: 0.0000007153 segundos.\n",
            "Tiempo transcurrido: 0.0000007153 segundos.\n",
            "Tiempo transcurrido: 0.0000007153 segundos.\n",
            "Tiempo transcurrido: 0.0000004768 segundos.\n",
            "Tiempo transcurrido: 0.0000009537 segundos.\n"
          ],
          "name": "stdout"
        }
      ]
    },
    {
      "cell_type": "code",
      "metadata": {
        "id": "p7Awe-b_I0HZ",
        "outputId": "55b332af-3498-4526-8374-0c2c3bbbf458",
        "colab": {
          "base_uri": "https://localhost:8080/",
          "height": 201
        }
      },
      "source": [
        "from time import time\n",
        "def ejemplo5( x ):\n",
        "    start_time = time()\n",
        "    n = 10\n",
        "    for j in range( 0 , x , 1 ):\n",
        "        n = j + n\n",
        "    elapsed_time = time() - start_time\n",
        "    print(\"Tiempo transcurrido: %0.10f segundos.\" % elapsed_time)\n",
        "    return n\n",
        "for entrada in range(100,1100,100):\n",
        "  ejemplo5( entrada )"
      ],
      "execution_count": 11,
      "outputs": [
        {
          "output_type": "stream",
          "text": [
            "Tiempo transcurrido: 0.0000061989 segundos.\n",
            "Tiempo transcurrido: 0.0000138283 segundos.\n",
            "Tiempo transcurrido: 0.0000452995 segundos.\n",
            "Tiempo transcurrido: 0.0000460148 segundos.\n",
            "Tiempo transcurrido: 0.0000569820 segundos.\n",
            "Tiempo transcurrido: 0.0000655651 segundos.\n",
            "Tiempo transcurrido: 0.0000731945 segundos.\n",
            "Tiempo transcurrido: 0.0000979900 segundos.\n",
            "Tiempo transcurrido: 0.0000989437 segundos.\n",
            "Tiempo transcurrido: 0.0001194477 segundos.\n"
          ],
          "name": "stdout"
        }
      ]
    },
    {
      "cell_type": "code",
      "metadata": {
        "id": "LFRtz6QhI38T",
        "outputId": "26a5d2f9-5674-4cb3-a727-16168ea1316b",
        "colab": {
          "base_uri": "https://localhost:8080/",
          "height": 201
        }
      },
      "source": [
        "from time import time\n",
        "def ejemplo6( n ):\n",
        "    start_time = time()\n",
        "    data=[[[1 for x in range(n)] for x in range(n)] \n",
        "          for x in range(n)]\n",
        "    suma = 0\n",
        "    for d in range(n):\n",
        "        for r in range(n):\n",
        "            for c in range(n):\n",
        "                suma += data[d][r][c]\n",
        "    elapsed_time = time() - start_time\n",
        "    print(\"Tiempo transcurrido: %0.10f segundos.\" % elapsed_time)\n",
        "    return suma\n",
        "for entrada in range(100,1100,100):\n",
        "  ejemplo6( entrada )"
      ],
      "execution_count": 12,
      "outputs": [
        {
          "output_type": "stream",
          "text": [
            "Tiempo transcurrido: 0.1864497662 segundos.\n",
            "Tiempo transcurrido: 1.0380427837 segundos.\n",
            "Tiempo transcurrido: 3.7096121311 segundos.\n",
            "Tiempo transcurrido: 9.2412250042 segundos.\n",
            "Tiempo transcurrido: 17.8562033176 segundos.\n",
            "Tiempo transcurrido: 36.0373663902 segundos.\n",
            "Tiempo transcurrido: 51.8491733074 segundos.\n",
            "Tiempo transcurrido: 78.2740471363 segundos.\n",
            "Tiempo transcurrido: 111.0174174309 segundos.\n",
            "Tiempo transcurrido: 151.1068105698 segundos.\n"
          ],
          "name": "stdout"
        }
      ]
    }
  ]
}