{
  "nbformat": 4,
  "nbformat_minor": 0,
  "metadata": {
    "colab": {
      "name": "7Diciembre2020.ipynb",
      "provenance": [],
      "authorship_tag": "ABX9TyPti6SuyNRkHOQxdMW5nqHc",
      "include_colab_link": true
    },
    "kernelspec": {
      "name": "python3",
      "display_name": "Python 3"
    }
  },
  "cells": [
    {
      "cell_type": "markdown",
      "metadata": {
        "id": "view-in-github",
        "colab_type": "text"
      },
      "source": [
        "<a href=\"https://colab.research.google.com/github/Ale1167A/daa_2021_1/blob/master/7Diciembre2020.ipynb\" target=\"_parent\"><img src=\"https://colab.research.google.com/assets/colab-badge.svg\" alt=\"Open In Colab\"/></a>"
      ]
    },
    {
      "cell_type": "code",
      "metadata": {
        "id": "ef0ELVIbuVgD"
      },
      "source": [
        ""
      ],
      "execution_count": null,
      "outputs": []
    },
    {
      "cell_type": "code",
      "metadata": {
        "colab": {
          "base_uri": "https://localhost:8080/"
        },
        "id": "xpztrcjPI2xN",
        "outputId": "b73eb126-f688-4299-c7c6-e4531536c22e"
      },
      "source": [
        "def fibonacci(n):\n",
        "  print(\"Llamada: \", n)\n",
        "  if n == 1 or n == 0:\n",
        "    return n\n",
        "  else: \n",
        "    return (fibonacci(n-1) + fibonacci(n-2))\n",
        "\n",
        "fibonacci(7)"
      ],
      "execution_count": 4,
      "outputs": [
        {
          "output_type": "stream",
          "text": [
            "Llamada:  7\n",
            "Llamada:  6\n",
            "Llamada:  5\n",
            "Llamada:  4\n",
            "Llamada:  3\n",
            "Llamada:  2\n",
            "Llamada:  1\n",
            "Llamada:  0\n",
            "Llamada:  1\n",
            "Llamada:  2\n",
            "Llamada:  1\n",
            "Llamada:  0\n",
            "Llamada:  3\n",
            "Llamada:  2\n",
            "Llamada:  1\n",
            "Llamada:  0\n",
            "Llamada:  1\n",
            "Llamada:  4\n",
            "Llamada:  3\n",
            "Llamada:  2\n",
            "Llamada:  1\n",
            "Llamada:  0\n",
            "Llamada:  1\n",
            "Llamada:  2\n",
            "Llamada:  1\n",
            "Llamada:  0\n",
            "Llamada:  5\n",
            "Llamada:  4\n",
            "Llamada:  3\n",
            "Llamada:  2\n",
            "Llamada:  1\n",
            "Llamada:  0\n",
            "Llamada:  1\n",
            "Llamada:  2\n",
            "Llamada:  1\n",
            "Llamada:  0\n",
            "Llamada:  3\n",
            "Llamada:  2\n",
            "Llamada:  1\n",
            "Llamada:  0\n",
            "Llamada:  1\n"
          ],
          "name": "stdout"
        },
        {
          "output_type": "execute_result",
          "data": {
            "text/plain": [
              "13"
            ]
          },
          "metadata": {
            "tags": []
          },
          "execution_count": 4
        }
      ]
    }
  ]
}