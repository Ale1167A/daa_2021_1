{
  "nbformat": 4,
  "nbformat_minor": 0,
  "metadata": {
    "colab": {
      "name": "BusquedaBinariaRecursiva.ipynb",
      "provenance": [],
      "collapsed_sections": [],
      "authorship_tag": "ABX9TyPQETicMKO4mWVeKwul0FHE",
      "include_colab_link": true
    },
    "kernelspec": {
      "name": "python3",
      "display_name": "Python 3"
    }
  },
  "cells": [
    {
      "cell_type": "markdown",
      "metadata": {
        "id": "view-in-github",
        "colab_type": "text"
      },
      "source": [
        "<a href=\"https://colab.research.google.com/github/Ale1167A/daa_2021_1/blob/master/BusquedaBinariaRecursiva.ipynb\" target=\"_parent\"><img src=\"https://colab.research.google.com/assets/colab-badge.svg\" alt=\"Open In Colab\"/></a>"
      ]
    },
    {
      "cell_type": "code",
      "metadata": {
        "colab": {
          "base_uri": "https://localhost:8080/"
        },
        "id": "ucWzWj-5zie_",
        "outputId": "b1decfb6-e146-4f64-a755-822b5b60142f"
      },
      "source": [
        "alumno1={'id':2, 'nombre':\"Juan\" , 'carrera':\"ICO\", 'promedio':7.67}\r\n",
        "alumno2={'id':4, 'nombre':\"Rocio\" , 'carrera':\"ICI\", 'promedio':8.67}\r\n",
        "alumno3={'id':5, 'nombre':\"Diego\" , 'carrera':\"DER\", 'promedio':8.98}\r\n",
        "alumno4={'id':7, 'nombre':\"May\" , 'carrera':\"ICI\", 'promedio':9.87}\r\n",
        "alumno5={'id':9, 'nombre':\"Rob\" , 'carrera':\"IME\", 'promedio':10.00}\r\n",
        "alumno6={'id':10, 'nombre':\"Santi\" , 'carrera':\"ICO\", 'promedio':5.37}\r\n",
        "alumno7={'id':14, 'nombre':\"Moy\" , 'carrera':\"IME\", 'promedio':6.85}\r\n",
        "alumno8={'id':16, 'nombre':\"Diana\" , 'carrera':\"DER\", 'promedio':9.99}\r\n",
        "alumno9={'id':19, 'nombre':\"Zoila\" , 'carrera':\"ICO\", 'promedio':8.22}\r\n",
        "alumno10={'id':22, 'nombre':\"Armando\" , 'carrera':\"ICO\", 'promedio':7.32}\r\n",
        "\r\n",
        "bd = []\r\n",
        "bd.append(alumno1)\r\n",
        "bd.append(alumno2)\r\n",
        "bd.append(alumno3)\r\n",
        "bd.append(alumno4)\r\n",
        "bd.append(alumno5)\r\n",
        "bd.append(alumno6)\r\n",
        "bd.append(alumno7)\r\n",
        "bd.append(alumno8)\r\n",
        "bd.append(alumno9)\r\n",
        "bd.append(alumno10)\r\n",
        "\r\n",
        "\r\n",
        "\r\n",
        "def BusquedaBinariaR(id, lista, inicio, final):\r\n",
        "    mitad = (inicio + final)//2\r\n",
        "    if inicio >=  final:\r\n",
        "        return \"El id es incorrecto\"\r\n",
        "    elif lista[mitad].get('id') == id:\r\n",
        "        return mitad \r\n",
        "    elif lista[mitad].get('id') < id:\r\n",
        "        return BusquedaBinariaR(id, lista, (mitad+1), final)\r\n",
        "    else:\r\n",
        "        return BusquedaBinariaR(id, lista, inicio, mitad)\r\n",
        "\r\n",
        "entrada = int(input(\"Dame un numero: \"))\r\n",
        "BusquedaBinariaR = BusquedaBinariaR(entrada, bd, 0, len(bd))\r\n",
        "print(f\"{bd[BusquedaBinariaR].get('nombre')} estudia la carrera de {bd[BusquedaBinariaR].get('carrera')} y tiene un promedio de {bd[BusquedaBinariaR].get('promedio')}\")\r\n",
        "\r\n"
      ],
      "execution_count": 1,
      "outputs": [
        {
          "output_type": "stream",
          "text": [
            "Dame un numero: 22\n",
            "Armando estudia la carrera de ICO y tiene un promedio de 7.32\n"
          ],
          "name": "stdout"
        }
      ]
    }
  ]
}