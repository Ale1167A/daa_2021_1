{
  "nbformat": 4,
  "nbformat_minor": 0,
  "metadata": {
    "colab": {
      "name": "Tarea_11.ipynb",
      "provenance": [],
      "collapsed_sections": [],
      "authorship_tag": "ABX9TyOYt85XM4XqKzajaP0a6bqF",
      "include_colab_link": true
    },
    "kernelspec": {
      "name": "python3",
      "display_name": "Python 3"
    }
  },
  "cells": [
    {
      "cell_type": "markdown",
      "metadata": {
        "id": "view-in-github",
        "colab_type": "text"
      },
      "source": [
        "<a href=\"https://colab.research.google.com/github/Ale1167A/daa_2021_1/blob/master/Tarea_11.ipynb\" target=\"_parent\"><img src=\"https://colab.research.google.com/assets/colab-badge.svg\" alt=\"Open In Colab\"/></a>"
      ]
    },
    {
      "cell_type": "code",
      "metadata": {
        "id": "MQh7i4_KE17E"
      },
      "source": [
        "class NodoArbol:\r\n",
        "  def __init__( self , dato ,  hijo_izq=None , hijo_der=None):\r\n",
        "    self.dato = dato\r\n",
        "    self.left = hijo_izq\r\n",
        "    self.right = hijo_der"
      ],
      "execution_count": 21,
      "outputs": []
    },
    {
      "cell_type": "code",
      "metadata": {
        "id": "U4Ir2I2DFJCE"
      },
      "source": [
        "class BinarySearchTree:\r\n",
        "  def __init__(self):\r\n",
        "    self.__root = None\r\n",
        "\r\n",
        "  def insert(self, value):\r\n",
        "    if self.__root == None:\r\n",
        "      self.__root = NodoArbol(value, None, None)\r\n",
        "    else:\r\n",
        "      \"\"\"preguntar si value es menor o mayor que root \"\"\"\r\n",
        "      self.InsertNodo(self.__root, value)\r\n",
        "  \r\n",
        "  def InsertNodo(self, nodo,value):\r\n",
        "    if nodo.dato == value:\r\n",
        "      pass\r\n",
        "    elif value < nodo.dato:#True, va a la izquierda\r\n",
        "      if nodo.left == None:#revisar si hay espacio a la izquierda \r\n",
        "        nodo.left = NodoArbol(value, None,None)#insertamos\r\n",
        "      else:\r\n",
        "        self.InsertNodo(nodo.left, value)\r\n",
        "    else:\r\n",
        "      if nodo.right == None:\r\n",
        "        nodo.right = NodoArbol(value, None, None)\r\n",
        "      else:\r\n",
        "        self.InsertNodo(nodo.right, value)\r\n",
        "\r\n",
        "  def buscar(self, value):\r\n",
        "    if self.__root == None:\r\n",
        "      return None\r\n",
        "    else:\r\n",
        "      return self.__buscar_nodo(self.__root, value)\r\n",
        "  \r\n",
        "  def __buscar_nodo(self, nodo, value):\r\n",
        "    if nodo == None:\r\n",
        "      return None\r\n",
        "    elif nodo.dato == value:\r\n",
        "      return nodo.dato\r\n",
        "    elif value < nodo.dato:\r\n",
        "      return self.__buscar_nodo(nodo.left, value)\r\n",
        "    else:\r\n",
        "      return self.__buscar_nodo(nodo.right, value)\r\n",
        "    \r\n",
        "  def transversal(self, format=\"inorden\"):\r\n",
        "    if format == \"inorden\":\r\n",
        "      self.__recorrido_in(self.__root)\r\n",
        "    elif format == \"preorden\":\r\n",
        "      self.__recorrido_pre(self.__root)\r\n",
        "    elif format == \"posorden\":\r\n",
        "      self.__recorrido_pos(self.__root)\r\n",
        "    else:\r\n",
        "      print(\"Formato no valido\")\r\n",
        "  \r\n",
        "  def __recorrido_pre(self, nodo):\r\n",
        "    if nodo != None:\r\n",
        "      print(nodo.dato, end=\",\")\r\n",
        "      self.__recorrido_pre(nodo.left)\r\n",
        "      self.__recorrido_pre(nodo.right)\r\n",
        "\r\n",
        "  def __recorrido_in(self, nodo):\r\n",
        "    if nodo != None:\r\n",
        "      self.__recorrido_in(nodo.left)\r\n",
        "      print(nodo.dato, end=\",\")\r\n",
        "      self.__recorrido_in(nodo.right)\r\n",
        "\r\n",
        "  def __recorrido_pos(self, nodo):\r\n",
        "    if nodo != None:\r\n",
        "      self.__recorrido_in(nodo.left)\r\n",
        "      self.__recorrido_in(nodo.right)\r\n",
        "      print(nodo.dato, end=\",\")  \r\n",
        "\r\n",
        "  def BorraNodo(self, value):\r\n",
        "    self.borrandoNodo(self.__root, self.__root, self.__root, None, value)\r\n",
        "\r\n",
        "  def borrandoNodo(self, root, nodo, anterior, nodos, value):\r\n",
        "    if nodo.dato == value:\r\n",
        "      if nodo.left == None and nodo.right == None: \r\n",
        "        if nodos == \"left\":\r\n",
        "          anterior.left = None\r\n",
        "        elif nodos == \"right\":\r\n",
        "          anterior.right = None\r\n",
        "      elif nodo.left == None and nodo.right != None:\r\n",
        "        if nodos == \"left\":\r\n",
        "          anterior.left = nodo.right\r\n",
        "        else:\r\n",
        "          anterior.right = nodo.right\r\n",
        "      elif nodo.left != None and nodo.right == None:\r\n",
        "        if nodos == \"left\":\r\n",
        "          anterior.left = nodo.left\r\n",
        "        else:\r\n",
        "          anterior.right = nodo.left\r\n",
        "      elif nodo.left != None and nodo.right != None: \r\n",
        "        tmp,anterior2 = self.nodoMasBajo(nodo.right, nodo)\r\n",
        "        if nodo.dato == anterior2.data:\r\n",
        "          anterior2.right = tmp.right\r\n",
        "        elif nodo.dato != anterior2.dato:\r\n",
        "          anterior2.left = tmp.right\r\n",
        "        if nodos == \"left\":\r\n",
        "          anterior.left = tmp\r\n",
        "        else:\r\n",
        "          anterior.right = tmp\r\n",
        "        tmp.left = nodo.left\r\n",
        "        tmp.right = nodo.right\r\n",
        "    elif value < nodo.dato:\r\n",
        "      return self.borrandoNodo(root, nodo.left, nodo, \"left\", value)\r\n",
        "    else:\r\n",
        "      return self.borrandoNodo(root, nodo.right, nodo, \"right\", value) \r\n",
        "    \r\n",
        "\r\n",
        "\r\n"
      ],
      "execution_count": 43,
      "outputs": []
    },
    {
      "cell_type": "code",
      "metadata": {
        "colab": {
          "base_uri": "https://localhost:8080/"
        },
        "id": "WcgKNHpcFM7R",
        "outputId": "57bddd22-a942-4539-f611-32b6a8e3fefe"
      },
      "source": [
        "bst = BinarySearchTree()\r\n",
        "bst.insert(50)\r\n",
        "bst.insert(20)\r\n",
        "bst.insert(40)\r\n",
        "bst.insert(45)\r\n",
        "bst.insert(80)\r\n",
        "bst.insert(90)\r\n",
        "bst.insert(60)\r\n",
        "bst.insert(100)\r\n",
        "bst.insert(85)\r\n",
        "bst.insert(95)\r\n",
        "\r\n",
        "print(\"recorrido pre:\")\r\n",
        "bst.transversal(format=\"preorden\")\r\n",
        "\r\n",
        "bst.BorraNodo(20)\r\n",
        "bst.BorraNodo(95)\r\n",
        "\r\n",
        "print(\"\\nrecorrido pre:\")\r\n",
        "bst.transversal(format=\"preorden\")\r\n"
      ],
      "execution_count": 45,
      "outputs": [
        {
          "output_type": "stream",
          "text": [
            "recorrido pre:\n",
            "50,20,40,45,80,60,90,85,100,95,\n",
            "recorrido pre:\n",
            "50,40,45,80,60,90,85,100,"
          ],
          "name": "stdout"
        }
      ]
    }
  ]
}