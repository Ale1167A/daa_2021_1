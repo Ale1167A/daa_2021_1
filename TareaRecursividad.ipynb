{
  "nbformat": 4,
  "nbformat_minor": 0,
  "metadata": {
    "colab": {
      "name": "TareaRecursividad.ipynb",
      "provenance": [],
      "collapsed_sections": [],
      "authorship_tag": "ABX9TyMtxINol5i25Ps+6UxQVDIC",
      "include_colab_link": true
    },
    "kernelspec": {
      "name": "python3",
      "display_name": "Python 3"
    }
  },
  "cells": [
    {
      "cell_type": "markdown",
      "metadata": {
        "id": "view-in-github",
        "colab_type": "text"
      },
      "source": [
        "<a href=\"https://colab.research.google.com/github/Ale1167A/daa_2021_1/blob/master/TareaRecursividad.ipynb\" target=\"_parent\"><img src=\"https://colab.research.google.com/assets/colab-badge.svg\" alt=\"Open In Colab\"/></a>"
      ]
    },
    {
      "cell_type": "code",
      "metadata": {
        "colab": {
          "base_uri": "https://localhost:8080/"
        },
        "id": "4RBHbf5RFR7G",
        "outputId": "87823bee-5261-440b-f546-0b19cc6857fa"
      },
      "source": [
        " #Crear una lista de enteros en Python y realizar la suma con recursividad, el caso base es cuando la lista este vacía.\n",
        "\n",
        "def suma(lista):\n",
        "    index = 0\n",
        "    if len(lista) == 1:\n",
        "        return lista[0]\n",
        "    else:\n",
        "        lista[index+1] = lista[index] + lista[index+1]\n",
        "        lista.pop(0)\n",
        "        print(lista)\n",
        "        if len(lista) != 0:\n",
        "            suma(lista)\n",
        "        return lista[index]\n",
        "\n",
        "def main():\n",
        "    lista = [54,74,12,5,0,45,106]\n",
        "    su = suma(lista)\n",
        "    print(f\"La suma es: {su}\")\n",
        "\n",
        "\n",
        "main()\n"
      ],
      "execution_count": 33,
      "outputs": [
        {
          "output_type": "stream",
          "text": [
            "[128, 12, 5, 0, 45, 106]\n",
            "[140, 5, 0, 45, 106]\n",
            "[145, 0, 45, 106]\n",
            "[145, 45, 106]\n",
            "[190, 106]\n",
            "[296]\n",
            "La suma es: 296\n"
          ],
          "name": "stdout"
        }
      ]
    },
    {
      "cell_type": "code",
      "metadata": {
        "colab": {
          "base_uri": "https://localhost:8080/"
        },
        "id": "x85XW10BDVgU",
        "outputId": "a389c9a3-4d81-4917-deb7-39671159dd64"
      },
      "source": [
        "def salidaRev(x):\n",
        "  if x > 0:\n",
        "    print(x)\n",
        "    salidaRev(x - 1)\n",
        "\n",
        "entrada = int(input(\"Dame un numero: \"))\n",
        "salidaRev(entrada)"
      ],
      "execution_count": 28,
      "outputs": [
        {
          "output_type": "stream",
          "text": [
            "Dame un numero: 5\n",
            "5\n",
            "4\n",
            "3\n",
            "2\n",
            "1\n"
          ],
          "name": "stdout"
        }
      ]
    },
    {
      "cell_type": "code",
      "metadata": {
        "colab": {
          "base_uri": "https://localhost:8080/"
        },
        "id": "g1eVSwSqjGWJ",
        "outputId": "b8082cf2-e1d2-4eeb-a4e7-f1900d33e9ff"
      },
      "source": [
        "class Stack(object):\n",
        "    def __init__(self):\n",
        "        self.items=[]\n",
        "\n",
        "    def push(self, dato): \n",
        "        self.items.append(dato)\n",
        "\n",
        "    def pop(self): \n",
        "        if self.esta_is_empty():\n",
        "            return None\n",
        "        else:\n",
        "            return self.items.pop()\n",
        "\n",
        "    def mid(self): \n",
        "      if len(self.items) % 2 == 0:\n",
        "        return print(self.items[(len(self.items) // 2)-1] , self.items[(len(self.items) // 2)])\n",
        "      else:\n",
        "        return print(self.items[(len(self.items) // 2)])\n",
        "\n",
        "    def is_empty(self): \n",
        "        if len(self.items)==0:\n",
        "            return True\n",
        "        else:\n",
        "            return False\n",
        "        \n",
        "    def to_string(self): \n",
        "        print(self.items)\n",
        "\n",
        "\n",
        "\n",
        "lista = Stack()\n",
        "lista.push(1)\n",
        "lista.push(2)\n",
        "lista.push(3)\n",
        "lista.push(4)\n",
        "lista.push(5)\n",
        "lista.push(6)\n",
        "lista.push(7)\n",
        "lista.push(8)\n",
        "lista.push(9)\n",
        "lista.push(10)\n",
        "\n",
        "lista.to_string()\n",
        "lista.mid()"
      ],
      "execution_count": 51,
      "outputs": [
        {
          "output_type": "stream",
          "text": [
            "[1, 2, 3, 4, 5, 6, 7, 8, 9, 10]\n",
            "5 6\n"
          ],
          "name": "stdout"
        }
      ]
    }
  ]
}