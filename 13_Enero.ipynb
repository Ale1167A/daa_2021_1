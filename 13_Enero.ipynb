{
  "nbformat": 4,
  "nbformat_minor": 0,
  "metadata": {
    "colab": {
      "name": "13_Enero.ipynb",
      "provenance": [],
      "authorship_tag": "ABX9TyO7G/JE1hw9bwdMYi2TjEoq",
      "include_colab_link": true
    },
    "kernelspec": {
      "name": "python3",
      "display_name": "Python 3"
    }
  },
  "cells": [
    {
      "cell_type": "markdown",
      "metadata": {
        "id": "view-in-github",
        "colab_type": "text"
      },
      "source": [
        "<a href=\"https://colab.research.google.com/github/Ale1167A/daa_2021_1/blob/master/13_Enero.ipynb\" target=\"_parent\"><img src=\"https://colab.research.google.com/assets/colab-badge.svg\" alt=\"Open In Colab\"/></a>"
      ]
    },
    {
      "cell_type": "code",
      "metadata": {
        "id": "u4O2BKWsMR2p"
      },
      "source": [
        "class NodoArbol:\r\n",
        "  def __init__( self , dato ,  hijo_izq=None , hijo_der=None):\r\n",
        "    self.dato = dato\r\n",
        "    self.left = hijo_izq\r\n",
        "    self.right = hijo_der"
      ],
      "execution_count": 1,
      "outputs": []
    },
    {
      "cell_type": "markdown",
      "metadata": {
        "id": "yeAve0IfMTjm"
      },
      "source": [
        "#Arbol Binario de Busqueda\r\n",
        "Los nodos a la izquierda son menores a la raiz y los nodos de la derecha son mayores a la raiz, pueden ser recorridos en preorden, inorden y posorden"
      ]
    },
    {
      "cell_type": "code",
      "metadata": {
        "id": "r__C_8NyS0sl"
      },
      "source": [
        "class BinarySearchTree:\r\n",
        "  def __init__(self):\r\n",
        "    self.__root = None\r\n",
        "\r\n",
        "  def insert(self, value):\r\n",
        "    if self.__root == None:\r\n",
        "      self.__root = NodoArbol(value, None, None)\r\n",
        "    else:\r\n",
        "      \"\"\"preguntar si value es menor o mayor que root \"\"\"\r\n",
        "      self.__InsertNodo__(self.__root, value)\r\n",
        "  \r\n",
        "  def InsertNodo(self, nodo,value):\r\n",
        "    if nodo.dato == value:\r\n",
        "      pass\r\n",
        "    elif value < nodo.dato:#True, va a la izquierda\r\n",
        "      if nodo.left == None:#revisar si hay espacio a la izquierda \r\n",
        "        nodo.left = NodoArbol(value, None,None)#insertamos\r\n",
        "      else:\r\n",
        "        self.__InsertNodo__(nodo.left, value)\r\n",
        "    else:\r\n",
        "      if nodo.right == None:\r\n",
        "        nodo.right = NodoArbol(value, None, None)\r\n",
        "      else:\r\n",
        "        self.__InsertNodo__(nodo.right, value)"
      ],
      "execution_count": 3,
      "outputs": []
    },
    {
      "cell_type": "code",
      "metadata": {
        "id": "twgOVtdYbyZ-"
      },
      "source": [
        ""
      ],
      "execution_count": null,
      "outputs": []
    }
  ]
}