{
  "nbformat": 4,
  "nbformat_minor": 0,
  "metadata": {
    "colab": {
      "name": "20_Enero.ipynb",
      "provenance": [],
      "collapsed_sections": [],
      "authorship_tag": "ABX9TyMJB0MTUV9arA0bAVCgc00g",
      "include_colab_link": true
    },
    "kernelspec": {
      "name": "python3",
      "display_name": "Python 3"
    }
  },
  "cells": [
    {
      "cell_type": "markdown",
      "metadata": {
        "id": "view-in-github",
        "colab_type": "text"
      },
      "source": [
        "<a href=\"https://colab.research.google.com/github/Ale1167A/daa_2021_1/blob/master/20_Enero.ipynb\" target=\"_parent\"><img src=\"https://colab.research.google.com/assets/colab-badge.svg\" alt=\"Open In Colab\"/></a>"
      ]
    },
    {
      "cell_type": "code",
      "metadata": {
        "id": "u4O2BKWsMR2p"
      },
      "source": [
        "class NodoArbol:\r\n",
        "  def __init__( self , dato ,  hijo_izq=None , hijo_der=None):\r\n",
        "    self.dato = dato\r\n",
        "    self.left = hijo_izq\r\n",
        "    self.right = hijo_der"
      ],
      "execution_count": 2,
      "outputs": []
    },
    {
      "cell_type": "markdown",
      "metadata": {
        "id": "yeAve0IfMTjm"
      },
      "source": [
        "#Arbol Binario de Busqueda\r\n",
        "Los nodos a la izquierda son menores a la raiz y los nodos de la derecha son mayores a la raiz, pueden ser recorridos en preorden, inorden y posorden"
      ]
    },
    {
      "cell_type": "code",
      "metadata": {
        "id": "r__C_8NyS0sl"
      },
      "source": [
        "class BinarySearchTree:\r\n",
        "  def __init__(self):\r\n",
        "    self.__root = None\r\n",
        "\r\n",
        "  def insert(self, value):\r\n",
        "    if self.__root == None:\r\n",
        "      self.__root = NodoArbol(value, None, None)\r\n",
        "    else:\r\n",
        "      \"\"\"preguntar si value es menor o mayor que root \"\"\"\r\n",
        "      self.InsertNodo(self.__root, value)\r\n",
        "  \r\n",
        "  def InsertNodo(self, nodo,value):\r\n",
        "    if nodo.dato == value:\r\n",
        "      pass\r\n",
        "    elif value < nodo.dato:#True, va a la izquierda\r\n",
        "      if nodo.left == None:#revisar si hay espacio a la izquierda \r\n",
        "        nodo.left = NodoArbol(value, None,None)#insertamos\r\n",
        "      else:\r\n",
        "        self.InsertNodo(nodo.left, value)\r\n",
        "    else:\r\n",
        "      if nodo.right == None:\r\n",
        "        nodo.right = NodoArbol(value, None, None)\r\n",
        "      else:\r\n",
        "        self.InsertNodo(nodo.right, value)\r\n",
        "\r\n",
        "  def buscar(self, value):\r\n",
        "    if self.__root == None:\r\n",
        "      return None\r\n",
        "    else:\r\n",
        "      return self.__buscar_nodo(self.__root, value)\r\n",
        "  \r\n",
        "  def __buscar_nodo(self, nodo, value):\r\n",
        "    if nodo == None:\r\n",
        "      return None\r\n",
        "    elif nodo.dato == value:\r\n",
        "      return nodo.dato\r\n",
        "    elif value < nodo.dato:\r\n",
        "      return self.__buscar_nodo(nodo.left, value)\r\n",
        "    else:\r\n",
        "      return self.__buscar_nodo(nodo.right, value)\r\n",
        "    \r\n",
        "  def transversal(self, format=\"inorden\"):\r\n",
        "    if format == \"inorden\":\r\n",
        "      self.__recorrido_in(self.__root)\r\n",
        "    elif format == \"preorden\":\r\n",
        "      self.__recorrido_pre(self.__root)\r\n",
        "    elif format == \"posorden\":\r\n",
        "      self.__recorrido_pos(self.__root)\r\n",
        "    else:\r\n",
        "      print(\"Formato no valido\")\r\n",
        "  \r\n",
        "  def __recorrido_pre(self, nodo):\r\n",
        "    if nodo != None:\r\n",
        "      print(nodo.dato, end=\",\")\r\n",
        "      self.__recorrido_pre(nodo.left)\r\n",
        "      self.__recorrido_pre(nodo.right)\r\n",
        "\r\n",
        "  def __recorrido_in(self, nodo):\r\n",
        "    if nodo != None:\r\n",
        "      self.__recorrido_in(nodo.left)\r\n",
        "      print(nodo.dato, end=\",\")\r\n",
        "      self.__recorrido_in(nodo.right)\r\n",
        "\r\n",
        "  def __recorrido_pos(self, nodo):\r\n",
        "    if nodo != None:\r\n",
        "      self.__recorrido_in(nodo.left)\r\n",
        "      self.__recorrido_in(nodo.right)\r\n",
        "      print(nodo.dato, end=\",\")  \r\n"
      ],
      "execution_count": 21,
      "outputs": []
    },
    {
      "cell_type": "code",
      "metadata": {
        "id": "twgOVtdYbyZ-",
        "colab": {
          "base_uri": "https://localhost:8080/"
        },
        "outputId": "fbb23891-c85d-46e6-8c13-a275abdcc0ee"
      },
      "source": [
        "bst = BinarySearchTree()\r\n",
        "bst.insert(50)\r\n",
        "bst.insert(30)\r\n",
        "bst.insert(20)\r\n",
        "res = bst.buscar(30)\r\n",
        "print(\"Dato: \",res)\r\n",
        "bst.transversal(format=\"preorden\")\r\n",
        "\r\n",
        "bst.transversal(format=\"inorden\")\r\n",
        "\r\n",
        "bst.transversal(format=\"posorden)"
      ],
      "execution_count": 23,
      "outputs": [
        {
          "output_type": "stream",
          "text": [
            "Dato:  30\n",
            "50,30,20,20,30,50,20,30,50,20,30,50,"
          ],
          "name": "stdout"
        }
      ]
    }
  ]
}