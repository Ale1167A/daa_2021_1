{
  "nbformat": 4,
  "nbformat_minor": 0,
  "metadata": {
    "colab": {
      "name": "Tarea_4.ipynb",
      "provenance": [],
      "collapsed_sections": [],
      "authorship_tag": "ABX9TyMq6ioDVToqp2HMQW6p61nR",
      "include_colab_link": true
    },
    "kernelspec": {
      "name": "python3",
      "display_name": "Python 3"
    }
  },
  "cells": [
    {
      "cell_type": "markdown",
      "metadata": {
        "id": "view-in-github",
        "colab_type": "text"
      },
      "source": [
        "<a href=\"https://colab.research.google.com/github/Ale1167A/daa_2021_1/blob/master/Tarea_4.ipynb\" target=\"_parent\"><img src=\"https://colab.research.google.com/assets/colab-badge.svg\" alt=\"Open In Colab\"/></a>"
      ]
    },
    {
      "cell_type": "code",
      "metadata": {
        "id": "aplGZkvoZeI6",
        "outputId": "855dda2a-0b9b-475a-b0e5-9fdfd02378d1",
        "colab": {
          "base_uri": "https://localhost:8080/",
          "height": 421
        }
      },
      "source": [
        "def ejemplo4(n):\n",
        "  count = 0\n",
        "  i = n \n",
        "  print(\"Nivel1\")\n",
        "  while i >=1:\n",
        "    count +=1\n",
        "    i = i//2\n",
        "    print(\"Nivel2\")\n",
        "  basura = 3+5\n",
        "  return count\n",
        "\n",
        "def main():\n",
        "  ejem4 = ejemplo4(1000000)\n",
        "  print(ejem4)\n",
        "main()"
      ],
      "execution_count": null,
      "outputs": [
        {
          "output_type": "stream",
          "text": [
            "Nivel1\n",
            "Nivel2\n",
            "Nivel2\n",
            "Nivel2\n",
            "Nivel2\n",
            "Nivel2\n",
            "Nivel2\n",
            "Nivel2\n",
            "Nivel2\n",
            "Nivel2\n",
            "Nivel2\n",
            "Nivel2\n",
            "Nivel2\n",
            "Nivel2\n",
            "Nivel2\n",
            "Nivel2\n",
            "Nivel2\n",
            "Nivel2\n",
            "Nivel2\n",
            "Nivel2\n",
            "Nivel2\n",
            "20\n"
          ],
          "name": "stdout"
        }
      ]
    }
  ]
}