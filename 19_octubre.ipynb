{
  "nbformat": 4,
  "nbformat_minor": 0,
  "metadata": {
    "colab": {
      "name": "19_octubre.ipynb",
      "provenance": [],
      "authorship_tag": "ABX9TyN5U/BR4ZH56OP/hh0TPM78",
      "include_colab_link": true
    },
    "kernelspec": {
      "name": "python3",
      "display_name": "Python 3"
    }
  },
  "cells": [
    {
      "cell_type": "markdown",
      "metadata": {
        "id": "view-in-github",
        "colab_type": "text"
      },
      "source": [
        "<a href=\"https://colab.research.google.com/github/Ale1167A/daa_2021_1/blob/master/19_octubre.ipynb\" target=\"_parent\"><img src=\"https://colab.research.google.com/assets/colab-badge.svg\" alt=\"Open In Colab\"/></a>"
      ]
    },
    {
      "cell_type": "code",
      "metadata": {
        "id": "WhaS2jMbMr1L",
        "outputId": "5c4ed280-e06c-4c66-86a0-414a41f99c62",
        "colab": {
          "base_uri": "https://localhost:8080/",
          "height": 329
        }
      },
      "source": [
        "a2d = [[3,2,1],[6,4,8],[7,4,2]]\n",
        "\n",
        "print(a2d)\n",
        "n = 3\n",
        "\n",
        "total = 0\n",
        "print(\"Nivel1\")\n",
        "for ren in range(n):\n",
        "  sumaRenglon = 0\n",
        "  print(\"Nivel2\")\n",
        "  for col in range(n):\n",
        "    sumaRenglon += a2d[ren][col]\n",
        "    total += a2d[ren][col]\n",
        "    print(\"Nivel1\")\n",
        "  print(total)"
      ],
      "execution_count": 9,
      "outputs": [
        {
          "output_type": "stream",
          "text": [
            "[[3, 2, 1], [6, 4, 8], [7, 4, 2]]\n",
            "Nivel1\n",
            "Nivel2\n",
            "Nivel1\n",
            "Nivel1\n",
            "Nivel1\n",
            "6\n",
            "Nivel2\n",
            "Nivel1\n",
            "Nivel1\n",
            "Nivel1\n",
            "24\n",
            "Nivel2\n",
            "Nivel1\n",
            "Nivel1\n",
            "Nivel1\n",
            "37\n"
          ],
          "name": "stdout"
        }
      ]
    },
    {
      "cell_type": "code",
      "metadata": {
        "id": "6bUlLRy1OPI5"
      },
      "source": [
        ""
      ],
      "execution_count": null,
      "outputs": []
    }
  ]
}