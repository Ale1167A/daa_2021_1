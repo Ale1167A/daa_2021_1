{
  "nbformat": 4,
  "nbformat_minor": 0,
  "metadata": {
    "colab": {
      "name": "Tarea10.ipynb",
      "provenance": [],
      "collapsed_sections": [],
      "authorship_tag": "ABX9TyPaXpWEWC3qhzakg8RdzLxx",
      "include_colab_link": true
    },
    "kernelspec": {
      "name": "python3",
      "display_name": "Python 3"
    }
  },
  "cells": [
    {
      "cell_type": "markdown",
      "metadata": {
        "id": "view-in-github",
        "colab_type": "text"
      },
      "source": [
        "<a href=\"https://colab.research.google.com/github/Ale1167A/daa_2021_1/blob/master/Tarea10.ipynb\" target=\"_parent\"><img src=\"https://colab.research.google.com/assets/colab-badge.svg\" alt=\"Open In Colab\"/></a>"
      ]
    },
    {
      "cell_type": "code",
      "metadata": {
        "id": "GqjT_Rn17QmT"
      },
      "source": [
        ""
      ],
      "execution_count": null,
      "outputs": []
    },
    {
      "cell_type": "code",
      "metadata": {
        "id": "2ZyQLxcY5Qp8"
      },
      "source": [
        "class NodoArbol:\r\n",
        "  def __init__(self, value, left = None, right = None):\r\n",
        "    self.data = value\r\n",
        "    self.left = left\r\n",
        "    self.right = right\r\n",
        "\r\n",
        "  def ultimo(self, nodo):\r\n",
        "    if nodo == None:\r\n",
        "      return None\r\n",
        "    else:\r\n",
        "      self.ultimo(nodo.left)\r\n",
        "      self.ultimo(nodo.right)\r\n",
        "      if nodo.left == None and nodo.right == None:\r\n",
        "        print(\"Los nodos hoja son:\",nodo.data)"
      ],
      "execution_count": 7,
      "outputs": []
    },
    {
      "cell_type": "code",
      "metadata": {
        "colab": {
          "base_uri": "https://localhost:8080/"
        },
        "id": "BVhWiIkG7w-S",
        "outputId": "5ce34d00-9ea9-4a87-b104-3a3746303475"
      },
      "source": [
        "arbol0 = NodoArbol(1, NodoArbol(2), NodoArbol(3, NodoArbol(4), NodoArbol(5)))\r\n",
        "arbol0.ultimo(arbol0)"
      ],
      "execution_count": 8,
      "outputs": [
        {
          "output_type": "stream",
          "text": [
            "Los nodos hoja son: 2\n",
            "Los nodos hoja son: 4\n",
            "Los nodos hoja son: 5\n"
          ],
          "name": "stdout"
        }
      ]
    },
    {
      "cell_type": "code",
      "metadata": {
        "colab": {
          "base_uri": "https://localhost:8080/"
        },
        "id": "monTNeXQ70cC",
        "outputId": "0c33f4d2-e12e-4a24-84a6-904ed3cff87b"
      },
      "source": [
        "arbol1 = NodoArbol(\"A\", NodoArbol(\"B\"), NodoArbol(\"C\", NodoArbol(\"D\"), NodoArbol(\"E\", NodoArbol(\"F\"), NodoArbol(\"G\"))))\r\n",
        "arbol1.ultimo(arbol1)"
      ],
      "execution_count": 10,
      "outputs": [
        {
          "output_type": "stream",
          "text": [
            "Los nodos hoja son: B\n",
            "Los nodos hoja son: D\n",
            "Los nodos hoja son: F\n",
            "Los nodos hoja son: G\n"
          ],
          "name": "stdout"
        }
      ]
    },
    {
      "cell_type": "code",
      "metadata": {
        "colab": {
          "base_uri": "https://localhost:8080/"
        },
        "id": "OG3nxzWK72Ot",
        "outputId": "eb7648bd-702d-4e36-afed-7e42ccc96ba0"
      },
      "source": [
        "arbol2 = NodoArbol(\"CAJA\", NodoArbol(\"MOUSE\", NodoArbol(\"TECLADO\"), NodoArbol(\"BOTON\", NodoArbol(\"ROSA\"))))\r\n",
        "arbol2.ultimo(arbol2)"
      ],
      "execution_count": 11,
      "outputs": [
        {
          "output_type": "stream",
          "text": [
            "Los nodos hoja son: TECLADO\n",
            "Los nodos hoja son: ROSA\n"
          ],
          "name": "stdout"
        }
      ]
    },
    {
      "cell_type": "code",
      "metadata": {
        "colab": {
          "base_uri": "https://localhost:8080/"
        },
        "id": "iELNDlLe73tG",
        "outputId": "1a794fba-2d9e-4a39-99c0-73240b601690"
      },
      "source": [
        "arbol3 = NodoArbol(\"X\", NodoArbol(\"Y\"), NodoArbol(\"Z\"))\r\n",
        "arbol3.ultimo(arbol3)"
      ],
      "execution_count": 12,
      "outputs": [
        {
          "output_type": "stream",
          "text": [
            "Los nodos hoja son: Y\n",
            "Los nodos hoja son: Z\n"
          ],
          "name": "stdout"
        }
      ]
    }
  ]
}