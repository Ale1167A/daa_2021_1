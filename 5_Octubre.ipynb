{
  "nbformat": 4,
  "nbformat_minor": 0,
  "metadata": {
    "colab": {
      "name": "5_Octubre.ipynb",
      "provenance": [],
      "collapsed_sections": [],
      "authorship_tag": "ABX9TyN3axIg9sZ2tHMt5UZTlByL",
      "include_colab_link": true
    },
    "kernelspec": {
      "name": "python3",
      "display_name": "Python 3"
    }
  },
  "cells": [
    {
      "cell_type": "markdown",
      "metadata": {
        "id": "view-in-github",
        "colab_type": "text"
      },
      "source": [
        "<a href=\"https://colab.research.google.com/github/Ale1167A/daa_2021_1/blob/master/5_Octubre.ipynb\" target=\"_parent\"><img src=\"https://colab.research.google.com/assets/colab-badge.svg\" alt=\"Open In Colab\"/></a>"
      ]
    },
    {
      "cell_type": "markdown",
      "metadata": {
        "id": "Noq0a9Yv_ZwL"
      },
      "source": [
        "#Estructura de datos pilas (Stack)\n",
        "-Last In Firts Out (LIFO)\n",
        "-De tipo lineal\n",
        "-push para agregar \n",
        "-pop para sacar\n",
        "\n",
        "##Operaciones\n",
        "\n",
        "-is_empty: regresa true o false)\n",
        "-get_top: regresa el tope sin scarlo \n",
        "-pop: saca el elemento top\n",
        "-push: mete un elemento en top\n",
        "-get_length: regresa el tamaño de la pila"
      ]
    },
    {
      "cell_type": "code",
      "metadata": {
        "id": "cZ_NQ2HM_mv_"
      },
      "source": [
        "class stack:\n",
        "  def __init__(self):\n",
        "    self.__datos = []\n",
        "\n",
        "  def is_empty(self):\n",
        "    return len(self.__datos) == 0\n",
        "\n",
        "  def get_top(self):\n",
        "    return self.__datos[-1]\n",
        "\n",
        "  def pop(self):\n",
        "    return self.__datos.pop()\n",
        "\n",
        "  def push(self, value):\n",
        "    self.__datos.append(value)\n",
        "\n",
        "  def get_length(self):\n",
        "    return len(self.__datos)\n",
        "\n",
        "  def to_string(self):\n",
        "    print(\"---------------\")\n",
        "    for i in self.__datos[-1::-1]:\n",
        "      print(f\"{i}\")\n",
        "    print(\"---------------\\n\")\n",
        "\n"
      ],
      "execution_count": 6,
      "outputs": []
    },
    {
      "cell_type": "code",
      "metadata": {
        "id": "AujMum9BFRSV",
        "outputId": "5b5452aa-28a6-4a33-b150-3fcb9940037b",
        "colab": {
          "base_uri": "https://localhost:8080/",
          "height": 513
        }
      },
      "source": [
        "pila1 = stack()\n",
        "pila1.push(10)\n",
        "pila1.push(11)\n",
        "pila1.push(12)\n",
        "pila1.push(13)\n",
        "pila1.push(14)\n",
        "pila1.to_string()\n",
        "\n",
        "dato = pila1.pop()\n",
        "print(dato)\n",
        "pila1.to_string()\n",
        "\n",
        "pila1.push(15)\n",
        "\n",
        "print(f\"El elemento top de la pila es: {pila1.get_top}\")\n",
        "pila1.to_string()\n",
        "print(f\"La pila tiene un tamaño de: {pila1.get_length()}\")\n",
        "print(f\"La pila esta vacia? {pila1.is_empty()}\")\n"
      ],
      "execution_count": 9,
      "outputs": [
        {
          "output_type": "stream",
          "text": [
            "---------------\n",
            "14\n",
            "13\n",
            "12\n",
            "11\n",
            "10\n",
            "---------------\n",
            "\n",
            "14\n",
            "---------------\n",
            "13\n",
            "12\n",
            "11\n",
            "10\n",
            "---------------\n",
            "\n",
            "El elemento top de la pila es: <bound method stack.get_top of <__main__.stack object at 0x7f9d747df7b8>>\n",
            "---------------\n",
            "15\n",
            "13\n",
            "12\n",
            "11\n",
            "10\n",
            "---------------\n",
            "\n",
            "La pila tiene un tamaño de: 5\n",
            "La pila esta vacia? False\n"
          ],
          "name": "stdout"
        }
      ]
    },
    {
      "cell_type": "markdown",
      "metadata": {
        "id": "XId9sOSJItzb"
      },
      "source": [
        "#Ejemplo de aplicacion de pilas\n",
        "\n"
      ]
    }
  ]
}